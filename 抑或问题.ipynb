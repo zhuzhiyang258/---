{
 "cells": [
  {
   "cell_type": "code",
   "execution_count": 100,
   "metadata": {},
   "outputs": [],
   "source": [
    "import numpy as np"
   ]
  },
  {
   "cell_type": "code",
   "execution_count": 101,
   "metadata": {},
   "outputs": [],
   "source": [
    "def sigmiod(x):\n",
    "    return 1/(1+np.exp(-x))\n"
   ]
  },
  {
   "cell_type": "code",
   "execution_count": 102,
   "metadata": {},
   "outputs": [],
   "source": [
    "X = np.array([[0,0],[0,1],[1,0],[1,1]])\n",
    "y = np.array([[0],[1],[1],[0]])"
   ]
  },
  {
   "cell_type": "code",
   "execution_count": 103,
   "metadata": {},
   "outputs": [],
   "source": [
    "np.random.seed(42)\n",
    "W1 = np.random.random((2,2))\n",
    "b1 = np.zeros((1,2))\n",
    "W2 = np.random.random((2,1))\n",
    "b2 = np.zeros((1,1))"
   ]
  },
  {
   "cell_type": "code",
   "execution_count": 104,
   "metadata": {},
   "outputs": [],
   "source": [
    "learning_rate = 0.1\n",
    "epochs = 10000"
   ]
  },
  {
   "cell_type": "code",
   "execution_count": 105,
   "metadata": {},
   "outputs": [],
   "source": [
    "#训练网络\n",
    "for epoch in range(epochs):\n",
    "    #前向传播\n",
    "    hidden_layer_input = np.dot(X,W1) + b1\n",
    "    hidden_layer_output = sigmiod(hidden_layer_input)\n",
    "    output_layer_input = np.dot(hidden_layer_output,W2) + b2\n",
    "    output_layer_output = sigmiod(output_layer_input)\n",
    "    #反向传播\n",
    "    output_error = (output_layer_output-y)*output_layer_output*(1-output_layer_output)\n",
    "    hidden_layer_error = np.dot(output_error,W2.T)*hidden_layer_output*(1-hidden_layer_output)\n",
    "    #更新权重和偏置\n",
    "    W2 -= learning_rate*np.dot(hidden_layer_output.T,output_error)\n",
    "    b2 -= learning_rate*np.sum(output_error,axis=0,keepdims=True)\n",
    "    W1 -= learning_rate*np.dot(X.T,hidden_layer_error)\n",
    "    b1 -= learning_rate*np.sum(hidden_layer_error,axis=0,keepdims=True) "
   ]
  },
  {
   "cell_type": "code",
   "execution_count": 106,
   "metadata": {},
   "outputs": [],
   "source": [
    "#损失函数计算方式\n",
    "#loss = (np.mean((output_layer_output-y)**2))/2"
   ]
  },
  {
   "cell_type": "code",
   "execution_count": 107,
   "metadata": {},
   "outputs": [],
   "source": [
    "#用训练好的模型进行预测\n",
    "hidden_layer_input = np.dot(X,W1) + b1\n",
    "hidden_layer_output = sigmiod(hidden_layer_input)\n",
    "output_layer_input = np.dot(hidden_layer_output,W2) + b2\n",
    "output_layer_output = sigmiod(output_layer_input)"
   ]
  },
  {
   "cell_type": "code",
   "execution_count": 108,
   "metadata": {},
   "outputs": [
    {
     "name": "stdout",
     "output_type": "stream",
     "text": [
      "第0个输入 [0 0]\n",
      "[-5.79319383 -2.42207539]\n",
      "[0.00303897 0.08150475]\n",
      "[-2.82718664]\n",
      "[0.05587262]\n",
      "第0个输出 0.055872619814252254\n",
      "\n",
      "第1个输入 [0 1]\n",
      "[-2.00974058  3.37124244]\n",
      "[0.11818401 0.9667936 ]\n",
      "[2.92135081]\n",
      "[0.94889185]\n",
      "第1个输出 0.9488918479227934\n",
      "\n",
      "第2个输入 [1 0]\n",
      "[-2.01442664  3.34924449]\n",
      "[0.11769652 0.96608009]\n",
      "[2.91994332]\n",
      "[0.94882355]\n",
      "第2个输出 0.948823546895149\n",
      "\n",
      "第3个输入 [1 1]\n",
      "[1.76902662 9.14256232]\n",
      "[0.85433658 0.999893  ]\n",
      "[-2.84483356]\n",
      "[0.05494899]\n",
      "第3个输出 0.054948992220017666\n",
      "\n"
     ]
    }
   ],
   "source": [
    "#输出每个输入对应的计算数值\n",
    "for i in range(len(X)):\n",
    "    print(f\"第{i}个输入\",X[i])\n",
    "    print(hidden_layer_input[i])\n",
    "    print(hidden_layer_output[i])\n",
    "    print(output_layer_input[i])\n",
    "    print(output_layer_output[i])\n",
    "    print(f\"第{i}个输出\",output_layer_output[i][0])\n",
    "    print()\n"
   ]
  },
  {
   "cell_type": "code",
   "execution_count": 109,
   "metadata": {},
   "outputs": [
    {
     "name": "stdout",
     "output_type": "stream",
     "text": [
      "W1-----\n",
      "[[3.77876719 5.77131988]\n",
      " [3.78345326 5.79331783]]\n",
      "b1-----\n",
      "[[-5.79319383 -2.42207539]]\n",
      "W2-----\n",
      "[[-8.17262084]\n",
      " [ 7.55637468]]\n",
      "b2-----\n",
      "[[-3.41823076]]\n"
     ]
    }
   ],
   "source": [
    "print('W1-----')\n",
    "print(W1)\n",
    "print('b1-----')\n",
    "print(b1)\n",
    "\n",
    "print('W2-----')\n",
    "print(W2)\n",
    "print('b2-----')\n",
    "print(b2)"
   ]
  }
 ],
 "metadata": {
  "kernelspec": {
   "display_name": "Torch",
   "language": "python",
   "name": "python3"
  },
  "language_info": {
   "codemirror_mode": {
    "name": "ipython",
    "version": 3
   },
   "file_extension": ".py",
   "mimetype": "text/x-python",
   "name": "python",
   "nbconvert_exporter": "python",
   "pygments_lexer": "ipython3",
   "version": "3.11.6"
  }
 },
 "nbformat": 4,
 "nbformat_minor": 2
}
